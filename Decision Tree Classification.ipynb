{
 "cells": [
  {
   "cell_type": "markdown",
   "id": "ff319a90",
   "metadata": {},
   "source": [
    "# Decision Tree Classification\n",
    "\n",
    "**Decision Trees (DTs) are a non-parametric supervised learning method used for classification and regression. The goal is to create a model that predicts the value of a target variable by learning simple decision rules inferred from the data features. A tree can be seen as a piecewise constant approximation.**\n",
    "\n",
    "**Essentially, the model splits the dataset into sections based on where they lie on the independent variable axi(s). Then, it calculates the average y value for each section, and assigns the y value for a new x data point as the average of the section it is in. This is much more effective and accurate than just assigning one y value for each x value based on the average of all the x values together.**\n",
    "\n",
    "No feature scaling required.\n",
    "\n",
    "Feature scaling is usually used on the methods which are based on measures of how far apart data points, such as SVM or KNN."
   ]
  },
  {
   "cell_type": "markdown",
   "id": "00d377b6",
   "metadata": {},
   "source": [
    "## Importing the Libraries"
   ]
  },
  {
   "cell_type": "code",
   "execution_count": 10,
   "id": "0a965d15",
   "metadata": {},
   "outputs": [],
   "source": [
    "import numpy as np\n",
    "import matplotlib.pyplot as plt\n",
    "import pandas as pd"
   ]
  },
  {
   "cell_type": "markdown",
   "id": "f65e4b1b",
   "metadata": {},
   "source": [
    "## Importing the Dataset"
   ]
  },
  {
   "cell_type": "code",
   "execution_count": 11,
   "id": "11ab3cea",
   "metadata": {},
   "outputs": [],
   "source": [
    "dataset = pd.read_csv('C:\\\\Users\\\\momoa\\\\OneDrive\\\\Desktop\\\\thesocialnetwrok.csv')\n",
    "x= dataset.iloc[:, :-1].values\n",
    "y = dataset.iloc[:, -1].values"
   ]
  },
  {
   "cell_type": "markdown",
   "id": "b5850777",
   "metadata": {},
   "source": [
    "## Splitting the dataset"
   ]
  },
  {
   "cell_type": "code",
   "execution_count": 12,
   "id": "becfcfa9",
   "metadata": {},
   "outputs": [],
   "source": [
    "from sklearn.model_selection import train_test_split\n",
    "xtrain, xtest, ytrain, ytest = train_test_split(x, y, test_size = 0.25, random_state = 42)"
   ]
  },
  {
   "cell_type": "markdown",
   "id": "b0c343f1",
   "metadata": {},
   "source": [
    "## Feature scaling"
   ]
  },
  {
   "cell_type": "code",
   "execution_count": null,
   "id": "eb624fde",
   "metadata": {},
   "outputs": [],
   "source": []
  },
  {
   "cell_type": "markdown",
   "id": "3e308905",
   "metadata": {},
   "source": [
    "## Training the DTR model on the dataset\n"
   ]
  },
  {
   "cell_type": "code",
   "execution_count": 13,
   "id": "c4b81f4f",
   "metadata": {},
   "outputs": [
    {
     "data": {
      "text/plain": [
       "DecisionTreeClassifier(criterion='entropy', random_state=42)"
      ]
     },
     "execution_count": 13,
     "metadata": {},
     "output_type": "execute_result"
    }
   ],
   "source": [
    "from sklearn.tree import DecisionTreeClassifier\n",
    "cl = DecisionTreeClassifier(criterion = 'entropy', random_state = 42)\n",
    "cl.fit(xtrain, ytrain)"
   ]
  },
  {
   "cell_type": "markdown",
   "id": "c0ce2cb8",
   "metadata": {},
   "source": [
    "## Predicting a new result"
   ]
  },
  {
   "cell_type": "code",
   "execution_count": 14,
   "id": "e04c7b62",
   "metadata": {},
   "outputs": [
    {
     "name": "stdout",
     "output_type": "stream",
     "text": [
      "[0]\n"
     ]
    }
   ],
   "source": [
    "print(cl.predict(scx.transform([[30,87000]])))"
   ]
  },
  {
   "cell_type": "markdown",
   "id": "2cb2d724",
   "metadata": {},
   "source": [
    "## Predicting test set results"
   ]
  },
  {
   "cell_type": "code",
   "execution_count": 15,
   "id": "7d2a1a9b",
   "metadata": {},
   "outputs": [
    {
     "name": "stdout",
     "output_type": "stream",
     "text": [
      "[[1 0]\n",
      " [0 1]\n",
      " [0 0]\n",
      " [0 1]\n",
      " [0 0]\n",
      " [0 0]\n",
      " [1 1]\n",
      " [0 0]\n",
      " [0 0]\n",
      " [0 0]\n",
      " [0 0]\n",
      " [1 1]\n",
      " [0 0]\n",
      " [0 0]\n",
      " [0 0]\n",
      " [1 0]\n",
      " [1 1]\n",
      " [1 0]\n",
      " [0 0]\n",
      " [1 1]]\n"
     ]
    }
   ],
   "source": [
    "ypred = cl.predict(xtest)\n",
    "concatenation = np.concatenate((ypred, ytest), 0)\n",
    "concatenation = np.concatenate((ypred.reshape(len(ypred),1), ytest.reshape(len(ytest), 1)), 1)\n",
    "print(concatenation[0:20])"
   ]
  },
  {
   "cell_type": "markdown",
   "id": "2d6f7867",
   "metadata": {},
   "source": [
    "## Confusion matrix"
   ]
  },
  {
   "cell_type": "code",
   "execution_count": 16,
   "id": "86321440",
   "metadata": {},
   "outputs": [
    {
     "data": {
      "text/plain": [
       "<sklearn.metrics._plot.confusion_matrix.ConfusionMatrixDisplay at 0x210dd04ed60>"
      ]
     },
     "execution_count": 16,
     "metadata": {},
     "output_type": "execute_result"
    },
    {
     "data": {
      "image/png": "[encoded data removed]",
      "text/plain": [
       "<Figure size 432x288 with 2 Axes>"
      ]
     },
     "metadata": {
      "needs_background": "light"
     },
     "output_type": "display_data"
    }
   ],
   "source": [
    "from sklearn.metrics import ConfusionMatrixDisplay, confusion_matrix\n",
    "cm = confusion_matrix(ytest, ypred)\n",
    "ConfusionMatrixDisplay(cm).plot()"
   ]
  },
  {
   "cell_type": "markdown",
   "id": "b2f49212",
   "metadata": {},
   "source": [
    "55 correct predictions of 0 (not buying), 8 incorrect predictions of 1 (buying).\n",
    "\n",
    "9 incorrect predictions of 0 (not buying), 28 correct predictions of 1. (with feature scaling)\n",
    "\n",
    "8 incorrect predictions of 0 (not buying), 29 correct predictions of 1. (without feature scaling)"
   ]
  },
  {
   "cell_type": "code",
   "execution_count": 17,
   "id": "876c1e4c",
   "metadata": {},
   "outputs": [
    {
     "data": {
      "text/plain": [
       "0.84"
      ]
     },
     "execution_count": 17,
     "metadata": {},
     "output_type": "execute_result"
    }
   ],
   "source": [
    "from sklearn.metrics import accuracy_score\n",
    "accuracy_score(ytest, ypred)"
   ]
  },
  {
   "cell_type": "markdown",
   "id": "1e47d620",
   "metadata": {},
   "source": [
    "Accuracy score is 83 with feature scaling."
   ]
  },
  {
   "cell_type": "code",
   "execution_count": null,
   "id": "d0518446",
   "metadata": {},
   "outputs": [],
   "source": []
  }
 ],
 "metadata": {
  "kernelspec": {
   "display_name": "Python 3",
   "language": "python",
   "name": "python3"
  },
  "language_info": {
   "codemirror_mode": {
    "name": "ipython",
    "version": 3
   },
   "file_extension": ".py",
   "mimetype": "text/x-python",
   "name": "python",
   "nbconvert_exporter": "python",
   "pygments_lexer": "ipython3",
   "version": "3.8.8"
  }
 },
 "nbformat": 4,
 "nbformat_minor": 5
}
