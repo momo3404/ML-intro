{
 "cells": [
  {
   "cell_type": "markdown",
   "id": "df609b01",
   "metadata": {},
   "source": [
    "# Breast Cancer Detection model\n",
    "\n",
    "The goal of this project is to build a classification model that can accurately predict whether a tumor in a sample of breast tissue is cancerous or not. Not all tumors are necessarily cancerous- they are either benign (not cancerous) or malignant (cancerous). The dataset that will be used to train this model is obtained from the University of Wisconsin and is available at the following link: https://archive.ics.uci.edu/ml/datasets/breast+cancer+wisconsin+(original).\n",
    "\n",
    "The dataset has 10 independent variables relating to the breast tissue tumor: clump thickness, cell size uniformity, cell shape uniformity, marginal adhesion, single epithelial cell size, bare nuclei, bland chromatin, normal nucleoli, and mitoses. All independent variables are measured on a scale of 1-10. These variables will all help the model classify the tumor into one of two classes: 2 (benign) and 4 (malignant). \n",
    "\n",
    "Multiple classification algorithms will be used and the model with the most accuracy will be used as the final one. "
   ]
  },
  {
   "cell_type": "markdown",
   "id": "dc88cbef",
   "metadata": {},
   "source": [
    "## Importing the Libraries"
   ]
  },
  {
   "cell_type": "code",
   "execution_count": 2,
   "id": "37ffde4d",
   "metadata": {},
   "outputs": [],
   "source": [
    "import numpy as np\n",
    "import matplotlib.pyplot as plt\n",
    "import pandas as pd"
   ]
  },
  {
   "cell_type": "markdown",
   "id": "b8cda16c",
   "metadata": {},
   "source": [
    "## Importing the Dataset\n",
    "\n",
    "If one is trying to run this model on their own, they should access the excel csv file provided in the repository and upload its location on their computer device onto the appropriate location below."
   ]
  },
  {
   "cell_type": "code",
   "execution_count": 18,
   "id": "2a6ec157",
   "metadata": {},
   "outputs": [],
   "source": [
    "dataset = pd.read_csv('C:\\\\Users\\\\momoa\\\\OneDrive\\\\Desktop\\\\breast_cancerdata.csv')\n",
    "x= dataset.iloc[:, 1:-1].values\n",
    "y = dataset.iloc[:, -1].values"
   ]
  },
  {
   "cell_type": "code",
   "execution_count": 19,
   "id": "d7db59a6",
   "metadata": {},
   "outputs": [
    {
     "name": "stdout",
     "output_type": "stream",
     "text": [
      "[[ 5  1  1  1  2  1  3  1  1]\n",
      " [ 5  4  4  5  7 10  3  2  1]\n",
      " [ 3  1  1  1  2  2  3  1  1]\n",
      " [ 6  8  8  1  3  4  3  7  1]\n",
      " [ 4  1  1  3  2  1  3  1  1]]\n",
      "[2 2 2 2 2]\n"
     ]
    }
   ],
   "source": [
    "print(x[0:5])\n",
    "\n",
    "print(y[0:5])"
   ]
  },
  {
   "cell_type": "markdown",
   "id": "e6846a22",
   "metadata": {},
   "source": [
    "## Splitting the dataset into the training and testing set"
   ]
  },
  {
   "cell_type": "code",
   "execution_count": 20,
   "id": "deb829d9",
   "metadata": {},
   "outputs": [],
   "source": [
    "from sklearn.model_selection import train_test_split\n",
    "xtrain, xtest, ytrain, ytest = train_test_split(x, y, test_size = 0.25, random_state = 42)"
   ]
  },
  {
   "cell_type": "markdown",
   "id": "6d5843a1",
   "metadata": {},
   "source": [
    "## Feature Scaling\n",
    "\n",
    "This is essentially normalization. Some of the models that will be used such as K-Nearest Neighbours and Kernel SVM will require this."
   ]
  },
  {
   "cell_type": "code",
   "execution_count": 21,
   "id": "43fec98e",
   "metadata": {},
   "outputs": [],
   "source": [
    "from sklearn.preprocessing import StandardScaler\n",
    "scx = StandardScaler()\n",
    "xtrain = scx.fit_transform(xtrain)\n",
    "xtest = scx.transform(xtest)"
   ]
  },
  {
   "cell_type": "markdown",
   "id": "92873b10",
   "metadata": {},
   "source": [
    "## Training the models on the dataset:"
   ]
  },
  {
   "cell_type": "markdown",
   "id": "44873558",
   "metadata": {},
   "source": [
    "### Kernel SVM"
   ]
  },
  {
   "cell_type": "code",
   "execution_count": 29,
   "id": "05278d71",
   "metadata": {},
   "outputs": [],
   "source": [
    "from sklearn.svm import SVC\n",
    "cl = SVC(kernel = 'rbf', random_state= 42)\n",
    "cl.fit(xtrain, ytrain)\n",
    "ypred = cl.predict(xtest)"
   ]
  },
  {
   "cell_type": "code",
   "execution_count": 31,
   "id": "c4d96092",
   "metadata": {},
   "outputs": [
    {
     "name": "stdout",
     "output_type": "stream",
     "text": [
      "Accuracy: 96.28 %\n",
      "Standard Deviation: 2.55 %\n"
     ]
    }
   ],
   "source": [
    "accuracies = cross_val_score(estimator = cl, X = xtrain, y = ytrain, cv = 10)\n",
    "print(\"Accuracy: {:.2f} %\".format(accuracies.mean()*100))\n",
    "print(\"Standard Deviation: {:.2f} %\".format(accuracies.std()*100))"
   ]
  },
  {
   "cell_type": "markdown",
   "id": "cac60f0f",
   "metadata": {},
   "source": [
    "### K-Nearest Neighbours"
   ]
  },
  {
   "cell_type": "code",
   "execution_count": 32,
   "id": "95285bc6",
   "metadata": {},
   "outputs": [
    {
     "data": {
      "text/plain": [
       "KNeighborsClassifier()"
      ]
     },
     "execution_count": 32,
     "metadata": {},
     "output_type": "execute_result"
    }
   ],
   "source": [
    "from sklearn.neighbors import KNeighborsClassifier\n",
    "cl = KNeighborsClassifier(n_neighbors= 5, metric = 'minkowski', p=2)\n",
    "cl.fit(xtrain, ytrain)"
   ]
  },
  {
   "cell_type": "code",
   "execution_count": 33,
   "id": "8d12e3d2",
   "metadata": {},
   "outputs": [
    {
     "name": "stdout",
     "output_type": "stream",
     "text": [
      "Accuracy: 96.29 %\n",
      "Standard Deviation: 1.85 %\n"
     ]
    }
   ],
   "source": [
    "accuracies = cross_val_score(estimator = cl, X = xtrain, y = ytrain, cv = 10)\n",
    "print(\"Accuracy: {:.2f} %\".format(accuracies.mean()*100))\n",
    "print(\"Standard Deviation: {:.2f} %\".format(accuracies.std()*100))"
   ]
  },
  {
   "cell_type": "markdown",
   "id": "aa4ec5fe",
   "metadata": {},
   "source": [
    "### Decision Tree"
   ]
  },
  {
   "cell_type": "code",
   "execution_count": 34,
   "id": "34079ff9",
   "metadata": {},
   "outputs": [
    {
     "data": {
      "text/plain": [
       "DecisionTreeClassifier(criterion='entropy', random_state=42)"
      ]
     },
     "execution_count": 34,
     "metadata": {},
     "output_type": "execute_result"
    }
   ],
   "source": [
    "from sklearn.tree import DecisionTreeClassifier\n",
    "cl = DecisionTreeClassifier(criterion = 'entropy', random_state = 42)\n",
    "cl.fit(xtrain, ytrain)"
   ]
  },
  {
   "cell_type": "code",
   "execution_count": 35,
   "id": "07347518",
   "metadata": {},
   "outputs": [
    {
     "name": "stdout",
     "output_type": "stream",
     "text": [
      "Accuracy: 95.31 %\n",
      "Standard Deviation: 2.18 %\n"
     ]
    }
   ],
   "source": [
    "accuracies = cross_val_score(estimator = cl, X = xtrain, y = ytrain, cv = 10)\n",
    "print(\"Accuracy: {:.2f} %\".format(accuracies.mean()*100))\n",
    "print(\"Standard Deviation: {:.2f} %\".format(accuracies.std()*100))"
   ]
  },
  {
   "cell_type": "markdown",
   "id": "df7d6528",
   "metadata": {},
   "source": [
    "### Random Tree"
   ]
  },
  {
   "cell_type": "code",
   "execution_count": 36,
   "id": "66e6e79d",
   "metadata": {},
   "outputs": [
    {
     "data": {
      "text/plain": [
       "RandomForestClassifier(criterion='entropy', n_estimators=10, random_state=42)"
      ]
     },
     "execution_count": 36,
     "metadata": {},
     "output_type": "execute_result"
    }
   ],
   "source": [
    "from sklearn.ensemble import RandomForestClassifier\n",
    "cl = RandomForestClassifier(n_estimators = 10, criterion = 'entropy', random_state = 42)\n",
    "cl.fit(xtrain, ytrain)"
   ]
  },
  {
   "cell_type": "code",
   "execution_count": 37,
   "id": "7eb74a8b",
   "metadata": {},
   "outputs": [
    {
     "name": "stdout",
     "output_type": "stream",
     "text": [
      "Accuracy: 95.89 %\n",
      "Standard Deviation: 2.55 %\n"
     ]
    }
   ],
   "source": [
    "accuracies = cross_val_score(estimator = cl, X = xtrain, y = ytrain, cv = 10)\n",
    "print(\"Accuracy: {:.2f} %\".format(accuracies.mean()*100))\n",
    "print(\"Standard Deviation: {:.2f} %\".format(accuracies.std()*100))"
   ]
  },
  {
   "cell_type": "markdown",
   "id": "c3c4b878",
   "metadata": {},
   "source": [
    "### Naive Bayes"
   ]
  },
  {
   "cell_type": "code",
   "execution_count": 38,
   "id": "477133b0",
   "metadata": {},
   "outputs": [
    {
     "data": {
      "text/plain": [
       "GaussianNB()"
      ]
     },
     "execution_count": 38,
     "metadata": {},
     "output_type": "execute_result"
    }
   ],
   "source": [
    "from sklearn.naive_bayes import GaussianNB\n",
    "cl = GaussianNB()\n",
    "cl.fit(xtrain, ytrain)"
   ]
  },
  {
   "cell_type": "code",
   "execution_count": 40,
   "id": "ed5bdbc1",
   "metadata": {},
   "outputs": [
    {
     "name": "stdout",
     "output_type": "stream",
     "text": [
      "Accuracy: 95.89 %\n",
      "Standard Deviation: 2.23 %\n"
     ]
    }
   ],
   "source": [
    "accuracies = cross_val_score(estimator = cl, X = xtrain, y = ytrain, cv = 10)\n",
    "print(\"Accuracy: {:.2f} %\".format(accuracies.mean()*100))\n",
    "print(\"Standard Deviation: {:.2f} %\".format(accuracies.std()*100))"
   ]
  },
  {
   "cell_type": "markdown",
   "id": "56e70efe",
   "metadata": {},
   "source": [
    "### Logistic Regression"
   ]
  },
  {
   "cell_type": "code",
   "execution_count": 42,
   "id": "195dd98d",
   "metadata": {},
   "outputs": [
    {
     "data": {
      "text/plain": [
       "LogisticRegression(random_state=42)"
      ]
     },
     "execution_count": 42,
     "metadata": {},
     "output_type": "execute_result"
    }
   ],
   "source": [
    "from sklearn.linear_model import LogisticRegression\n",
    "cl = LogisticRegression(random_state=42)\n",
    "cl.fit(xtrain, ytrain)"
   ]
  },
  {
   "cell_type": "code",
   "execution_count": 43,
   "id": "4779984a",
   "metadata": {},
   "outputs": [
    {
     "name": "stdout",
     "output_type": "stream",
     "text": [
      "Accuracy: 96.87 %\n",
      "Standard Deviation: 2.00 %\n"
     ]
    }
   ],
   "source": [
    "from sklearn.model_selection import cross_val_score\n",
    "accuracies = cross_val_score(estimator = cl, X = xtrain, y = ytrain, cv = 10)\n",
    "print(\"Accuracy: {:.2f} %\".format(accuracies.mean()*100))\n",
    "print(\"Standard Deviation: {:.2f} %\".format(accuracies.std()*100))"
   ]
  },
  {
   "cell_type": "markdown",
   "id": "65c0d772",
   "metadata": {},
   "source": [
    "As one can see, the logistic regression model had the highest accuracy with 96.87% and the second lowest standard deviation of 2.00%. Thus, will be the model used on new data."
   ]
  },
  {
   "cell_type": "markdown",
   "id": "d7f8b2be",
   "metadata": {},
   "source": [
    "## Predicting a new result with the logistic regression model\n",
    "\n",
    "The first column is what the model predicted and the second column is the actual result."
   ]
  },
  {
   "cell_type": "code",
   "execution_count": 44,
   "id": "4b7c3f36",
   "metadata": {},
   "outputs": [
    {
     "name": "stdout",
     "output_type": "stream",
     "text": [
      "[[4 4]\n",
      " [4 4]\n",
      " [2 2]\n",
      " [2 2]\n",
      " [2 2]\n",
      " [2 2]\n",
      " [2 2]\n",
      " [2 2]\n",
      " [4 4]\n",
      " [2 2]\n",
      " [2 2]\n",
      " [2 2]\n",
      " [2 2]\n",
      " [2 2]\n",
      " [2 4]\n",
      " [4 4]\n",
      " [2 2]\n",
      " [4 4]\n",
      " [2 2]\n",
      " [4 4]]\n"
     ]
    }
   ],
   "source": [
    "ypred = cl.predict(xtest)\n",
    "concatenation = np.concatenate((ypred, ytest), 0)\n",
    "concatenation = np.concatenate((ypred.reshape(len(ypred),1), ytest.reshape(len(ytest), 1)), 1)\n",
    "print(concatenation[0:20])"
   ]
  },
  {
   "cell_type": "code",
   "execution_count": 45,
   "id": "b15c041c",
   "metadata": {},
   "outputs": [
    {
     "data": {
      "text/plain": [
       "<sklearn.metrics._plot.confusion_matrix.ConfusionMatrixDisplay at 0x28823480d30>"
      ]
     },
     "execution_count": 45,
     "metadata": {},
     "output_type": "execute_result"
    },
    {
     "data": {
      "image/png": "[encoded data removed]",
      "text/plain": [
       "<Figure size 432x288 with 2 Axes>"
      ]
     },
     "metadata": {
      "needs_background": "light"
     },
     "output_type": "display_data"
    }
   ],
   "source": [
    "from sklearn.metrics import ConfusionMatrixDisplay, confusion_matrix\n",
    "cm = confusion_matrix(ytest, ypred)\n",
    "ConfusionMatrixDisplay(cm).plot()"
   ]
  },
  {
   "cell_type": "code",
   "execution_count": 46,
   "id": "c9fb0e94",
   "metadata": {},
   "outputs": [
    {
     "data": {
      "text/plain": [
       "0.9532163742690059"
      ]
     },
     "execution_count": 46,
     "metadata": {},
     "output_type": "execute_result"
    }
   ],
   "source": [
    "from sklearn.metrics import accuracy_score\n",
    "accuracy_score(ytest, ypred)"
   ]
  },
  {
   "cell_type": "markdown",
   "id": "62b7e859",
   "metadata": {},
   "source": [
    "The logistic regression model had an excellent 95.3% accuracy with the testing set. It had 7 False positive/type I errors, and only 1 false negative/type II error."
   ]
  },
  {
   "cell_type": "markdown",
   "id": "d17f93cd",
   "metadata": {},
   "source": [
    "## Predicting a new result\n",
    "\n",
    "Here is how the model would be used if one wanted to hypothetically determine the malignancy of a tumor tissue with the following variables:\n",
    "\n",
    "clump thickness: 6\n",
    "\n",
    "cell size uniformity: 9\n",
    "\n",
    "cell shape uniformity: 2\n",
    "\n",
    "marginal adhesion: 3\n",
    "\n",
    "single epithelial cell size: 5\n",
    "\n",
    "bare nuclei: 10\n",
    "\n",
    "bland chromatin: 3\n",
    "\n",
    "normal nucleoli: 2\n",
    "\n",
    "mitoses: 1"
   ]
  },
  {
   "cell_type": "code",
   "execution_count": 49,
   "id": "c8dd23fb",
   "metadata": {},
   "outputs": [
    {
     "name": "stdout",
     "output_type": "stream",
     "text": [
      "[4]\n"
     ]
    }
   ],
   "source": [
    "print(cl.predict([[6,9,2,3,5,10,3,2,1]]))"
   ]
  },
  {
   "cell_type": "markdown",
   "id": "98756868",
   "metadata": {},
   "source": [
    "This hypothetical tissue would most likely have a malignant/cancerous tumor."
   ]
  }
 ],
 "metadata": {
  "kernelspec": {
   "display_name": "Python 3",
   "language": "python",
   "name": "python3"
  },
  "language_info": {
   "codemirror_mode": {
    "name": "ipython",
    "version": 3
   },
   "file_extension": ".py",
   "mimetype": "text/x-python",
   "name": "python",
   "nbconvert_exporter": "python",
   "pygments_lexer": "ipython3",
   "version": "3.8.8"
  }
 },
 "nbformat": 4,
 "nbformat_minor": 5
}
