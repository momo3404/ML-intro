{
 "cells": [
  {
   "cell_type": "markdown",
   "id": "3612cf92",
   "metadata": {},
   "source": [
    "# Simple Linear Regression"
   ]
  },
  {
   "cell_type": "markdown",
   "id": "46172178",
   "metadata": {},
   "source": [
    "## Importing the libraries"
   ]
  },
  {
   "cell_type": "code",
   "execution_count": 2,
   "id": "6c77045a",
   "metadata": {},
   "outputs": [],
   "source": [
    "import numpy as np #numerical analysis\n",
    "import matplotlib.pyplot as plt #visual plotting\n",
    "import pandas as pd #data analysis"
   ]
  },
  {
   "cell_type": "markdown",
   "id": "4f12de09",
   "metadata": {},
   "source": [
    "## Importing the Dataset"
   ]
  },
  {
   "cell_type": "code",
   "execution_count": 3,
   "id": "8d3bf1b0",
   "metadata": {},
   "outputs": [
    {
     "name": "stdout",
     "output_type": "stream",
     "text": [
      "[[ 1.1]\n",
      " [ 1.3]\n",
      " [ 1.5]\n",
      " [ 2. ]\n",
      " [ 2.2]\n",
      " [ 2.9]\n",
      " [ 3. ]\n",
      " [ 3.2]\n",
      " [ 3.2]\n",
      " [ 3.7]\n",
      " [ 3.9]\n",
      " [ 4. ]\n",
      " [ 4. ]\n",
      " [ 4.1]\n",
      " [ 4.5]\n",
      " [ 4.9]\n",
      " [ 5.1]\n",
      " [ 5.3]\n",
      " [ 5.9]\n",
      " [ 6. ]\n",
      " [ 6.8]\n",
      " [ 7.1]\n",
      " [ 7.9]\n",
      " [ 8.2]\n",
      " [ 8.7]\n",
      " [ 9. ]\n",
      " [ 9.5]\n",
      " [ 9.6]\n",
      " [10.3]\n",
      " [10.5]]\n",
      "[ 39343.  46205.  37731.  43525.  39891.  56642.  60150.  54445.  64445.\n",
      "  57189.  63218.  55794.  56957.  57081.  61111.  67938.  66029.  83088.\n",
      "  81363.  93940.  91738.  98273. 101302. 113812. 109431. 105582. 116969.\n",
      " 112635. 122391. 121872.]\n"
     ]
    }
   ],
   "source": [
    "dataset = pd.read_csv(r'C:\\\\Users\\\\momoa\\\\OneDrive\\\\Desktop\\\\Salary_Data.csv')\n",
    "x = dataset.iloc[:, 0:1].values\n",
    "y = dataset.iloc[:, -1].values #just have -1 as column index.\n",
    "print(x)\n",
    "\n",
    "print(y)"
   ]
  },
  {
   "cell_type": "markdown",
   "id": "48d315e4",
   "metadata": {},
   "source": [
    "## Splitting the dataset into training and testing sets"
   ]
  },
  {
   "cell_type": "code",
   "execution_count": 4,
   "id": "38322f03",
   "metadata": {},
   "outputs": [],
   "source": [
    "from sklearn.model_selection import train_test_split \n",
    "xtrain, xtest, ytrain, ytest = train_test_split(x, y, test_size = 0.2, random_state = 42)"
   ]
  },
  {
   "cell_type": "markdown",
   "id": "9e0d71eb",
   "metadata": {},
   "source": [
    "## Training the Simple Linear Regression model on the Training set"
   ]
  },
  {
   "cell_type": "markdown",
   "id": "7a5a1cdf",
   "metadata": {},
   "source": [
    "**Training the model essentially means using the fit() method so that the model learns what are the best paramters for that type of data. In other words, it determines the best pair of m and c coefficients for the training data.**\n",
    "\n",
    "**Here, the regobj object will use the formulas in the Linear Regression class to find the best linear regression line for the xtrain and ytrain data.**"
   ]
  },
  {
   "cell_type": "code",
   "execution_count": 5,
   "id": "801d3d56",
   "metadata": {},
   "outputs": [
    {
     "data": {
      "text/plain": [
       "LinearRegression()"
      ]
     },
     "execution_count": 5,
     "metadata": {},
     "output_type": "execute_result"
    }
   ],
   "source": [
    "from sklearn.linear_model import LinearRegression\n",
    "regobj = LinearRegression() #usually there are parameters, but none here now.\n",
    "regobj.fit(xtrain, ytrain) #fitting is finding the best possible m and c values for the given data ***"
   ]
  },
  {
   "cell_type": "markdown",
   "id": "b1118461",
   "metadata": {},
   "source": [
    "***Boxer vs fighter 1 in gym. Boxer knows fighter's moves (xtrain) and will be told what punches to throw back (ytrain).***"
   ]
  },
  {
   "cell_type": "markdown",
   "id": "a967752b",
   "metadata": {},
   "source": [
    "**Now that we have trained our model, the next step involves predictions over the testing set. To do so, we need to call the method predict() that will essentially use the parameters learned by fit() in order to perform predictions on new, unseen test data points.**"
   ]
  },
  {
   "cell_type": "markdown",
   "id": "c9f73fc6",
   "metadata": {},
   "source": [
    "## Graphing the Training set results\n",
    "\n",
    "**This graph will show us (in the blue plot) what the model predicts is going to be the salaries at those specific years of experience mentioned by xtrain data. It will do this by using the linear regression fitting (specific values of m and c) it learned in the previous slide.**\n",
    "\n",
    "**The values of m and c never change, just the x we put into them which spits out the new y/salary values.**\n",
    "\n",
    "matplotlib.pyplot.scatter(x_axis_data, y_axis_data, s=None, c=None, marker=None, cmap=None, vmin=None, vmax=None, alpha=None, linewidths=None, edgecolors=None)**\n",
    "\n",
    "x_axis_data- An array containing x-axis data\n",
    "y_axis_data- An array containing y-axis data\n",
    "s- marker size (can be scalar or array of size equal to size of x or y)\n",
    "c- color of sequence of colors for markers\n",
    "marker- marker style\n",
    "cmap- cmap name\n",
    "linewidths- width of marker border\n",
    "edgecolor- marker border color\n",
    "alpha- blending value, between 0 (transparent) and 1 (opaque)\n",
    "\n",
    "***Boxer vs fighter 1 in arena. Boxer will see the moves the fighter throws (xtrain) but will know have to figure out what punches to throw back (ypredicted or regobj.predict(xtrain)) based on their own intuition (training from fitting).***"
   ]
  },
  {
   "cell_type": "code",
   "execution_count": 6,
   "id": "854db25a",
   "metadata": {},
   "outputs": [
    {
     "data": {
      "image/png": "[encoded data removed]",
      "text/plain": [
       "<Figure size 432x288 with 1 Axes>"
      ]
     },
     "metadata": {
      "needs_background": "light"
     },
     "output_type": "display_data"
    }
   ],
   "source": [
    "plt.scatter(xtrain, ytrain, color = 'red') #real salaries\n",
    "plt.plot(xtrain, regobj.predict(xtrain), color = 'blue') #predicted salaries\n",
    "plt.title('Salary vs Experience (Training set)')\n",
    "plt.xlabel('Years of Experience')\n",
    "plt.ylabel('Salary')\n",
    "plt.show()"
   ]
  },
  {
   "cell_type": "markdown",
   "id": "6cea9229",
   "metadata": {},
   "source": [
    "## Graphing the Test set results\n",
    "\n",
    "***Boxer vs fighter 2 in arena. New fighter (new data, new x). Same fighting (predicting, m and c) process.***"
   ]
  },
  {
   "cell_type": "code",
   "execution_count": 7,
   "id": "00e27a5a",
   "metadata": {},
   "outputs": [
    {
     "data": {
      "image/png": "[encoded data removed]",
      "text/plain": [
       "<Figure size 432x288 with 1 Axes>"
      ]
     },
     "metadata": {
      "needs_background": "light"
     },
     "output_type": "display_data"
    }
   ],
   "source": [
    "plt.scatter(xtest, ytest, color = 'red') #real salaries\n",
    "plt.plot(xtest, regobj.predict(xtest), color = 'blue') #predicted salaries\n",
    "plt.title('Salary vs Experience (Testing set)')\n",
    "plt.xlabel('Years of Experience')\n",
    "plt.ylabel('Salary')\n",
    "plt.show()"
   ]
  },
  {
   "cell_type": "markdown",
   "id": "0b9a8e65",
   "metadata": {},
   "source": [
    "The point of a simple linear regression model fitting is to figure out the 'm' coefficient and the 'c' displacement. So, once you have trained the model with your training set, the 'm' and 'c' variables are set. This means that any future 'x' values will yield a result that is mx + c and hence lie on the same line. This is why its useful to plot the \"predicted\" test results versus \"observed\" test results (so that we can see that our model works and observe how the line is always very accurate).\n",
    "\n"
   ]
  },
  {
   "cell_type": "markdown",
   "id": "3087638f",
   "metadata": {},
   "source": [
    "**Model learns m and c values from training data in fitting phase. After that, it's just a matter of changing the x with new data it's never seen before (so that we can use the model to predict).**"
   ]
  }
 ],
 "metadata": {
  "kernelspec": {
   "display_name": "Python 3",
   "language": "python",
   "name": "python3"
  },
  "language_info": {
   "codemirror_mode": {
    "name": "ipython",
    "version": 3
   },
   "file_extension": ".py",
   "mimetype": "text/x-python",
   "name": "python",
   "nbconvert_exporter": "python",
   "pygments_lexer": "ipython3",
   "version": "3.8.8"
  }
 },
 "nbformat": 4,
 "nbformat_minor": 5
}
